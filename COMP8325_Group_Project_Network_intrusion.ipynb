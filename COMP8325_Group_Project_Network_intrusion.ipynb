{
 "cells": [
  {
   "cell_type": "code",
   "execution_count": 1,
   "id": "assumed-bracelet",
   "metadata": {},
   "outputs": [],
   "source": [
    "# Total Marks: 2\n",
    "# Task1: Anomaly Detection Method 1 For Phishing or Malicious URL Detection\n",
    "import pandas as pd\n",
    "import numpy as np\n",
    "from sklearn.metrics import confusion_matrix\n",
    "from sklearn.model_selection import train_test_split\n",
    "from sklearn.tree import DecisionTreeClassifier\n",
    "from sklearn.metrics import accuracy_score\n",
    "from sklearn.metrics import classification_report\n",
    "data=pd.read_csv('UNSW_NB15_training-set.csv')\n",
    "data.head()\n",
    "labels=data['label']\n"
   ]
  },
  {
   "cell_type": "code",
   "execution_count": 2,
   "id": "9bcd862c",
   "metadata": {},
   "outputs": [],
   "source": [
    "from sklearn.preprocessing import LabelEncoder\n",
    "inliers = data[data['label']==0]\n",
    "inl = inliers.drop(['label'], axis=1)\n",
    "outliers = data[data['label']==1]\n",
    "out = outliers.drop(['label'], axis=1)\n",
    "inl1=inl.apply(LabelEncoder().fit_transform)\n",
    "out1=out.apply(LabelEncoder().fit_transform)"
   ]
  },
  {
   "cell_type": "code",
   "execution_count": 3,
   "id": "6b0f5459",
   "metadata": {},
   "outputs": [],
   "source": [
    "def normal_accuracy(values):\n",
    "    tp=list(values).count(1)\n",
    "    total=values.shape[0]\n",
    "    accuracy=np.round(tp/total,4)\n",
    "    return accuracy\n",
    "\n",
    "def attack_accuracy(values):\n",
    "    tn=list(values).count(-1)\n",
    "    total=values.shape[0]\n",
    "    accuracy=np.round(tn/total,4)\n",
    "    return accuracy"
   ]
  },
  {
   "cell_type": "code",
   "execution_count": 4,
   "id": "ae1518c2",
   "metadata": {},
   "outputs": [],
   "source": [
    "from sklearn.ensemble import IsolationForest as IF\n",
    "ifmodel = IF()\n",
    "ifmodel.fit(inl1)\n",
    "normal_isf = ifmodel.predict(inl1)\n",
    "fraud_isf = ifmodel.predict(out1)\n",
    "ifin_accuracy_isf=normal_accuracy(normal_isf)\n",
    "ifout_accuracy_isf=attack_accuracy(fraud_isf)\n"
   ]
  },
  {
   "cell_type": "code",
   "execution_count": 5,
   "id": "endangered-kidney",
   "metadata": {},
   "outputs": [
    {
     "name": "stdout",
     "output_type": "stream",
     "text": [
      "Accuracy in Detecting Normal Cases: 0.8568\n",
      "Accuracy in Detecting Fraud Cases: 0.7285\n"
     ]
    },
    {
     "data": {
      "text/plain": [
       "'\\nThe AUC is high because of ....\\n'"
      ]
     },
     "execution_count": 5,
     "metadata": {},
     "output_type": "execute_result"
    }
   ],
   "source": [
    "# Total Marks: 2\n",
    "\n",
    "# Task1: Analysis of Anomaly Detection Method 1 For Phishing or Malicious URL Detection\n",
    "\n",
    "print(\"Accuracy in Detecting Normal Cases:\", ifin_accuracy_isf)\n",
    "print(\"Accuracy in Detecting Fraud Cases:\", ifout_accuracy_isf)\n",
    "\n",
    "\n",
    "\n",
    "\n",
    "\n",
    "'''\n",
    "The AUC is high because of ....\n",
    "'''"
   ]
  },
  {
   "cell_type": "code",
   "execution_count": null,
   "id": "e0f2e9dd",
   "metadata": {},
   "outputs": [],
   "source": []
  },
  {
   "cell_type": "code",
   "execution_count": 10,
   "id": "b7ef1197",
   "metadata": {},
   "outputs": [],
   "source": [
    "# Task1: Analysis of Anomaly Detection Method 1 For Probing Dataset\n",
    "from sklearn.impute import SimpleImputer\n",
    "imp=SimpleImputer(missing_values=np.nan, strategy='most_frequent')\n",
    "model=DecisionTreeClassifier(\n",
    "            criterion = \"entropy\", random_state = 5,\n",
    "            max_depth = 3, min_samples_leaf = 5)\n",
    "df=data.apply(LabelEncoder().fit_transform)\n",
    "x_train, x_test,y_train,y_test=train_test_split(df.drop(['label'], axis=1), df['label'],test_size=0.2,random_state=5)\n",
    "x_train=imp.fit_transform(x_train)\n",
    "x_test=imp.fit_transform(x_test)\n",
    "model=model.fit(x_train,y_train)"
   ]
  },
  {
   "cell_type": "code",
   "execution_count": 11,
   "id": "6bea3f10",
   "metadata": {},
   "outputs": [
    {
     "name": "stdout",
     "output_type": "stream",
     "text": [
      "              precision    recall  f1-score   support\n",
      "\n",
      "           0       1.00      1.00      1.00      7462\n",
      "           1       1.00      1.00      1.00      9005\n",
      "\n",
      "    accuracy                           1.00     16467\n",
      "   macro avg       1.00      1.00      1.00     16467\n",
      "weighted avg       1.00      1.00      1.00     16467\n",
      "\n"
     ]
    }
   ],
   "source": [
    "y_pred=model.predict(x_test)\n",
    "print(classification_report(y_test,y_pred))"
   ]
  },
  {
   "cell_type": "code",
   "execution_count": 12,
   "id": "b6061261",
   "metadata": {},
   "outputs": [
    {
     "name": "stdout",
     "output_type": "stream",
     "text": [
      "              precision    recall  f1-score   support\n",
      "\n",
      "           0       0.95      0.99      0.97      7462\n",
      "           1       0.99      0.96      0.97      9005\n",
      "\n",
      "    accuracy                           0.97     16467\n",
      "   macro avg       0.97      0.97      0.97     16467\n",
      "weighted avg       0.97      0.97      0.97     16467\n",
      "\n"
     ]
    }
   ],
   "source": [
    "from sklearn.neighbors import KNeighborsClassifier\n",
    "knn=KNeighborsClassifier(n_neighbors=2)\n",
    "knn=knn.fit(x_train,y_train)\n",
    "y_pred2=knn.predict(x_test)\n",
    "print(classification_report(y_test,y_pred2))"
   ]
  },
  {
   "cell_type": "code",
   "execution_count": 13,
   "id": "configured-sugar",
   "metadata": {},
   "outputs": [],
   "source": [
    "# Total Marks: 2\n",
    "\n",
    "# Task1: Anomaly Detection Method 2 For Phishing or Malicious URL Detection\n",
    "\n",
    "from sklearn.neighbors import LocalOutlierFactor as LOF\n",
    "import warnings\n",
    "warnings.filterwarnings('ignore')\n",
    "lofmodel = LOF(novelty=True)\n",
    "lofmodel.fit(inl1)\n",
    "\n",
    "normal_lof = lofmodel.predict(inl1)\n",
    "fraud_lof = lofmodel.predict(out1)\n",
    "\n",
    "in_accuracy_lof=normal_accuracy(normal_lof)\n",
    "out_accuracy_lof=attack_accuracy(fraud_lof)\n",
    "\n",
    "\n",
    "\n",
    "\n"
   ]
  },
  {
   "cell_type": "code",
   "execution_count": 14,
   "id": "native-theme",
   "metadata": {},
   "outputs": [
    {
     "name": "stdout",
     "output_type": "stream",
     "text": [
      "Accuracy in Detecting Normal Cases: 0.9688\n",
      "Accuracy in Detecting Fraud Cases: 0.9924\n"
     ]
    }
   ],
   "source": [
    "# Total Marks: 2\n",
    "\n",
    "# Task1: Analysis of Anomaly Detection Method 2 For Phishing or Malicious URL Detection\n",
    "\n",
    "print(\"Accuracy in Detecting Normal Cases:\", in_accuracy_lof)\n",
    "print(\"Accuracy in Detecting Fraud Cases:\", out_accuracy_lof)\n",
    "\n",
    "\n",
    "\n",
    "\n",
    "\n"
   ]
  },
  {
   "cell_type": "code",
   "execution_count": 15,
   "id": "current-retreat",
   "metadata": {
    "scrolled": false
   },
   "outputs": [
    {
     "data": {
      "image/png": "[encoded data removed]",
      "text/plain": [
       "<Figure size 432x288 with 1 Axes>"
      ]
     },
     "metadata": {
      "needs_background": "light"
     },
     "output_type": "display_data"
    },
    {
     "data": {
      "image/png": "[encoded data removed]",
      "text/plain": [
       "<Figure size 432x288 with 1 Axes>"
      ]
     },
     "metadata": {
      "needs_background": "light"
     },
     "output_type": "display_data"
    },
    {
     "data": {
      "image/png": "[encoded data removed]",
      "text/plain": [
       "<Figure size 432x288 with 1 Axes>"
      ]
     },
     "metadata": {
      "needs_background": "light"
     },
     "output_type": "display_data"
    }
   ],
   "source": [
    "# Total Marks: 2\n",
    "# Task1: Comparison of Anomaly Detection Method 1 and Method 2 For Phishing or Malicious URL Detection\n",
    "\n",
    "\n",
    "import matplotlib.pyplot as plt\n",
    "plt.bar([\"IsolationForest\",\"LocalOutlierFactor\"],[ifin_accuracy_isf,in_accuracy_lof],width=0.2)\n",
    "plt.title(\"AUC of inlier detection\")\n",
    "plt.show()\n",
    "plt.bar([\"IsolationForest\",\"LocalOutlierFactor\"],[ifout_accuracy_isf,out_accuracy_lof],width=0.2)\n",
    "plt.title(\"AUC of outlier detection\")\n",
    "plt.show()\n",
    "\n",
    "\n",
    "\n"
   ]
  },
  {
   "cell_type": "code",
   "execution_count": null,
   "id": "respiratory-content",
   "metadata": {},
   "outputs": [],
   "source": []
  }
 ],
 "metadata": {
  "kernelspec": {
   "display_name": "Python 3 (ipykernel)",
   "language": "python",
   "name": "python3"
  },
  "language_info": {
   "codemirror_mode": {
    "name": "ipython",
    "version": 3
   },
   "file_extension": ".py",
   "mimetype": "text/x-python",
   "name": "python",
   "nbconvert_exporter": "python",
   "pygments_lexer": "ipython3",
   "version": "3.9.7"
  }
 },
 "nbformat": 4,
 "nbformat_minor": 5
}
