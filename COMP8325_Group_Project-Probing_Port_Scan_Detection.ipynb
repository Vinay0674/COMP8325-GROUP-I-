{
 "cells": [
  {
   "cell_type": "code",
   "execution_count": 28,
   "id": "logical-circular",
   "metadata": {},
   "outputs": [],
   "source": [
    "# Task1: Anomaly Detection Method 1 For Probing Dataset\n",
    "import pandas as pd\n",
    "import numpy as np\n",
    "from sklearn.metrics import confusion_matrix\n",
    "from sklearn.model_selection import train_test_split\n",
    "from sklearn.tree import DecisionTreeClassifier\n",
    "from sklearn.metrics import accuracy_score\n",
    "from sklearn.metrics import classification_report\n",
    "data1=pd.read_csv('malicious_dataset.csv')\n",
    "data2=pd.read_csv('normal_dataset.csv')\n",
    "data1['label']=1\n",
    "data2['label']=0"
   ]
  },
  {
   "cell_type": "code",
   "execution_count": 25,
   "id": "6df5f488",
   "metadata": {},
   "outputs": [],
   "source": [
    "from sklearn.preprocessing import LabelEncoder\n",
    "from sklearn.impute import SimpleImputer\n",
    "\n",
    "inl = data2.drop(['label'], axis=1)\n",
    "out = data1.drop(['label'], axis=1)\n",
    "\n",
    "imp=SimpleImputer(missing_values=np.nan, strategy='most_frequent')\n",
    "\n",
    "\n",
    "inl1=inl.apply(LabelEncoder().fit_transform)\n",
    "out1=out.apply(LabelEncoder().fit_transform)\n"
   ]
  },
  {
   "cell_type": "code",
   "execution_count": 7,
   "id": "6fdf2882",
   "metadata": {},
   "outputs": [],
   "source": [
    "def normal_accuracy(values):\n",
    "    tp=list(values).count(1)\n",
    "    total=values.shape[0]\n",
    "    accuracy=np.round(tp/total,4)\n",
    "    return accuracy\n",
    "\n",
    "def attack_accuracy(values):\n",
    "    tn=list(values).count(-1)\n",
    "    total=values.shape[0]\n",
    "    accuracy=np.round(tn/total,4)\n",
    "    return accuracy"
   ]
  },
  {
   "cell_type": "code",
   "execution_count": 8,
   "id": "9871b074",
   "metadata": {},
   "outputs": [],
   "source": [
    "from sklearn.ensemble import IsolationForest as IF\n",
    "ifmodel = IF()\n",
    "ifmodel.fit(inl1)\n",
    "normal_isf = ifmodel.predict(inl1)\n",
    "fraud_isf = ifmodel.predict(out1)\n",
    "in_accuracy_isf=normal_accuracy(normal_isf)\n",
    "out_accuracy_isf=attack_accuracy(fraud_isf)"
   ]
  },
  {
   "cell_type": "code",
   "execution_count": 58,
   "id": "67cf39d8",
   "metadata": {},
   "outputs": [],
   "source": [
    "df=data1+data2"
   ]
  },
  {
   "cell_type": "code",
   "execution_count": 61,
   "id": "difficult-tennis",
   "metadata": {},
   "outputs": [],
   "source": [
    "# Task1: Analysis of Anomaly Detection Method 1 For Probing Dataset\n",
    "model=DecisionTreeClassifier(\n",
    "            criterion = \"entropy\", random_state = 100,\n",
    "            max_depth = 3, min_samples_leaf = 5)\n",
    "df=df.apply(LabelEncoder().fit_transform)\n",
    "x_train, x_test,y_train,y_test=train_test_split(df.drop(['label'], axis=1), df['label'],test_size=0.2,random_state=5)\n",
    "x_train=imp.fit_transform(x_train)\n",
    "x_test=imp.fit_transform(x_test)\n",
    "model=model.fit(x_train,y_train)\n"
   ]
  },
  {
   "cell_type": "code",
   "execution_count": 62,
   "id": "cff2808a",
   "metadata": {},
   "outputs": [
    {
     "name": "stdout",
     "output_type": "stream",
     "text": [
      "              precision    recall  f1-score   support\n",
      "\n",
      "           0       1.00      1.00      1.00     17322\n",
      "           1       1.00      1.00      1.00      3297\n",
      "\n",
      "    accuracy                           1.00     20619\n",
      "   macro avg       1.00      1.00      1.00     20619\n",
      "weighted avg       1.00      1.00      1.00     20619\n",
      "\n"
     ]
    }
   ],
   "source": [
    "y_pred=model.predict(x_test)\n",
    "print(classification_report(y_test,y_pred))"
   ]
  },
  {
   "cell_type": "code",
   "execution_count": 47,
   "id": "b32bdf92",
   "metadata": {},
   "outputs": [],
   "source": [
    "from sklearn.neighbors import KNeighborsClassifier\n",
    "knn=KNeighborsClassifier(n_neighbors=2)\n",
    "knn=knn.fit(x_train,y_train)"
   ]
  },
  {
   "cell_type": "code",
   "execution_count": 49,
   "id": "32b1e683",
   "metadata": {},
   "outputs": [
    {
     "name": "stdout",
     "output_type": "stream",
     "text": [
      "              precision    recall  f1-score   support\n",
      "\n",
      "           0       1.00      1.00      1.00     17322\n",
      "           1       1.00      1.00      1.00      3297\n",
      "\n",
      "    accuracy                           1.00     20619\n",
      "   macro avg       1.00      1.00      1.00     20619\n",
      "weighted avg       1.00      1.00      1.00     20619\n",
      "\n"
     ]
    }
   ],
   "source": [
    "y_pred2=knn.predict(x_test)\n",
    "print(classification_report(y_test,y_pred2))"
   ]
  },
  {
   "cell_type": "code",
   "execution_count": 51,
   "id": "afraid-indiana",
   "metadata": {},
   "outputs": [],
   "source": [
    "# Task1: Anomaly Detection Method 2(LocalOutlierFactor) For Probing Dataset\n",
    "\n",
    "\n",
    "from sklearn.neighbors import LocalOutlierFactor as LOF\n",
    "import warnings\n",
    "warnings.filterwarnings('ignore')\n",
    "lofmodel = LOF(novelty=True)\n",
    "lofmodel.fit(inl1)\n",
    "\n",
    "normal_lof = lofmodel.predict(inl1)\n",
    "fraud_lof = lofmodel.predict(out1)\n",
    "\n",
    "in_accuracy_lof=normal_accuracy(normal_lof)\n",
    "out_accuracy_lof=attack_accuracy(fraud_lof)\n",
    "\n",
    "\n"
   ]
  },
  {
   "cell_type": "code",
   "execution_count": 52,
   "id": "phantom-capitol",
   "metadata": {},
   "outputs": [
    {
     "name": "stdout",
     "output_type": "stream",
     "text": [
      "Accuracy in Detecting Normal Cases: 0.9963\n",
      "Accuracy in Detecting Fraud Cases: 0.0029\n"
     ]
    }
   ],
   "source": [
    "# Task1: Analysis of Anomaly Detection Method 2 For Probing Dataset\n",
    "\n",
    "print(\"Accuracy in Detecting Normal Cases:\", in_accuracy_lof)\n",
    "print(\"Accuracy in Detecting Fraud Cases:\", out_accuracy_lof)\n",
    "\n",
    "\n",
    "\n"
   ]
  },
  {
   "cell_type": "code",
   "execution_count": 53,
   "id": "wound-clothing",
   "metadata": {},
   "outputs": [
    {
     "data": {
      "image/png": "[encoded data removed]",
      "text/plain": [
       "<Figure size 432x288 with 1 Axes>"
      ]
     },
     "metadata": {
      "needs_background": "light"
     },
     "output_type": "display_data"
    },
    {
     "data": {
      "image/png": "[encoded data removed]",
      "text/plain": [
       "<Figure size 432x288 with 1 Axes>"
      ]
     },
     "metadata": {
      "needs_background": "light"
     },
     "output_type": "display_data"
    },
    {
     "data": {
      "image/png": "[encoded data removed]",
      "text/plain": [
       "<Figure size 432x288 with 1 Axes>"
      ]
     },
     "metadata": {
      "needs_background": "light"
     },
     "output_type": "display_data"
    }
   ],
   "source": [
    "# Task1: Comparison of Anomaly Detection Method 1 and Method 2 For Probing Dataset\n",
    "import matplotlib.pyplot as plt\n",
    "plt.bar([\"IsolationForest\",\"LocalOutlierFactor\"],[in_accuracy_isf,in_accuracy_lof],width=0.2)\n",
    "plt.title(\"AUC of inlier detection\")\n",
    "plt.show()\n",
    "plt.bar([\"IsolationForest\",\"LocalOutlierFactor\"],[out_accuracy_lof,out_accuracy_lof],width=0.2)\n",
    "plt.title(\"AUC of outlier detection\")\n",
    "plt.show()\n",
    "plt.bar([\"Decision Tree\",\"KNN\"],[accuracy_score(y_test,y_pred),accuracy_score(y_test,y_pred2)],width=0.2)\n",
    "plt.title(\"AUC\")\n",
    "plt.show()\n",
    "\n",
    "\n",
    "\n",
    "\n"
   ]
  },
  {
   "cell_type": "code",
   "execution_count": null,
   "id": "conceptual-nightmare",
   "metadata": {},
   "outputs": [],
   "source": [
    "\n"
   ]
  }
 ],
 "metadata": {
  "kernelspec": {
   "display_name": "Python 3 (ipykernel)",
   "language": "python",
   "name": "python3"
  },
  "language_info": {
   "codemirror_mode": {
    "name": "ipython",
    "version": 3
   },
   "file_extension": ".py",
   "mimetype": "text/x-python",
   "name": "python",
   "nbconvert_exporter": "python",
   "pygments_lexer": "ipython3",
   "version": "3.9.7"
  }
 },
 "nbformat": 4,
 "nbformat_minor": 5
}
