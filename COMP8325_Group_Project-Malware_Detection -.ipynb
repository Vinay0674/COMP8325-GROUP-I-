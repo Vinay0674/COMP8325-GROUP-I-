{
 "cells": [
  {
   "cell_type": "code",
   "execution_count": 13,
   "id": "logical-circular",
   "metadata": {},
   "outputs": [
    {
     "name": "stdout",
     "output_type": "stream",
     "text": [
      "      entityId entityType    event                     eventTime  \\\n",
      "0       1000.0    content  malware  2016-12-15T09:01:48.640+0000   \n",
      "1       1001.0    content  malware  2016-12-15T09:01:48.684+0000   \n",
      "2       1002.0    content  malware  2016-12-15T09:01:48.736+0000   \n",
      "3       1003.0    content  malware  2016-12-15T09:01:48.779+0000   \n",
      "4       1006.0    content  malware  2016-12-15T09:01:48.856+0000   \n",
      "...        ...        ...      ...                           ...   \n",
      "2018     992.0    content  malware  2016-12-15T09:03:59.754+0000   \n",
      "2019     993.0    content  malware  2016-12-15T09:03:59.777+0000   \n",
      "2020     994.0    content  malware  2016-12-15T09:03:59.793+0000   \n",
      "2021       NaN        NaN      NaN                           NaN   \n",
      "2022       NaN        NaN      NaN                           NaN   \n",
      "\n",
      "                                             properties  \\\n",
      "0     {'file_access': '3d801aa5 09e592c4 98e83379 3d...   \n",
      "1     {'file_access': 'd41d8cd9 913f9c49 96da6d37 8b...   \n",
      "2     {'pe_sec_entropy': 'f7ddd489 216e7829 2b0fa4ef...   \n",
      "3     {'file_access': 'bda9f42e 6f796183 06416233', ...   \n",
      "4     {'file_access': 'bda9f42e 3c6b9e80 06416233', ...   \n",
      "...                                                 ...   \n",
      "2018  {'file_access': '3d801aa5 778934d4 2deeeeda 77...   \n",
      "2019  {'file_access': '3d801aa5 0f1c184c 06416233 bd...   \n",
      "2020  {'file_access': 'bda9f42e 6f796183 06416233', ...   \n",
      "2021                                                NaN   \n",
      "2022                                                NaN   \n",
      "\n",
      "                                             api_resolv  \\\n",
      "0                                                   NaN   \n",
      "1                                                   NaN   \n",
      "2                                                   NaN   \n",
      "3                                                   NaN   \n",
      "4                                                   NaN   \n",
      "...                                                 ...   \n",
      "2018                                                NaN   \n",
      "2019                                                NaN   \n",
      "2020                                                NaN   \n",
      "2021  370ff063 55592569 2afd0289 c1239f2b c8d5a2e6 8...   \n",
      "2022  1314db6f 716a3719 ecb835e6 ed04c659 c725acf6 2...   \n",
      "\n",
      "                                            file_access  \\\n",
      "0                                                   NaN   \n",
      "1                                                   NaN   \n",
      "2                                                   NaN   \n",
      "3                                                   NaN   \n",
      "4                                                   NaN   \n",
      "...                                                 ...   \n",
      "2018                                                NaN   \n",
      "2019                                                NaN   \n",
      "2020                                                NaN   \n",
      "2021  e34d514f 06416233 4d90362d dfe3a006 980d14c0 b...   \n",
      "2022  202cb962 06416233 7b946538 d2a61ce4 f5ddaf0c 2...   \n",
      "\n",
      "                                            file_delete  \\\n",
      "0                                                   NaN   \n",
      "1                                                   NaN   \n",
      "2                                                   NaN   \n",
      "3                                                   NaN   \n",
      "4                                                   NaN   \n",
      "...                                                 ...   \n",
      "2018                                                NaN   \n",
      "2019                                                NaN   \n",
      "2020                                                NaN   \n",
      "2021  437175ba f4fa7b50 4d90362d 0bbe36a9 8242a76e b...   \n",
      "2022                                                NaN   \n",
      "\n",
      "                                              file_drop  \\\n",
      "0                                                   NaN   \n",
      "1                                                   NaN   \n",
      "2                                                   NaN   \n",
      "3                                                   NaN   \n",
      "4                                                   NaN   \n",
      "...                                                 ...   \n",
      "2018                                                NaN   \n",
      "2019                                                NaN   \n",
      "2020                                                NaN   \n",
      "2021  00011400_8d777f38 000ce400_8d777f38 00025800_8...   \n",
      "2022                                                NaN   \n",
      "\n",
      "                                              file_read  ...  \\\n",
      "0                                                   NaN  ...   \n",
      "1                                                   NaN  ...   \n",
      "2                                                   NaN  ...   \n",
      "3                                                   NaN  ...   \n",
      "4                                                   NaN  ...   \n",
      "...                                                 ...  ...   \n",
      "2018                                                NaN  ...   \n",
      "2019                                                NaN  ...   \n",
      "2020                                                NaN  ...   \n",
      "2021  e34d514f 06416233 4d90362d dfe3a006 f4fa7b50 b...  ...   \n",
      "2022  202cb962 06416233 7b946538 22450232 48bb9888 c...  ...   \n",
      "\n",
      "                                             reg_access  \\\n",
      "0                                                   NaN   \n",
      "1                                                   NaN   \n",
      "2                                                   NaN   \n",
      "3                                                   NaN   \n",
      "4                                                   NaN   \n",
      "...                                                 ...   \n",
      "2018                                                NaN   \n",
      "2019                                                NaN   \n",
      "2020                                                NaN   \n",
      "2021  9a56dde8 b57c7482 1fdc5d81 5aef98ff bc07121d 1...   \n",
      "2022  e58891ec d41d8cd9 06238034 8377f24f c0d89ef7 e...   \n",
      "\n",
      "                                               reg_read  \\\n",
      "0                                                   NaN   \n",
      "1                                                   NaN   \n",
      "2                                                   NaN   \n",
      "3                                                   NaN   \n",
      "4                                                   NaN   \n",
      "...                                                 ...   \n",
      "2018                                                NaN   \n",
      "2019                                                NaN   \n",
      "2020                                                NaN   \n",
      "2021  01edf1b7 4915be26 b57c7482 8512ae7d 0aaa8742 2...   \n",
      "2022  35e4625d e58891ec 06238034 8377f24f ab2b0c6f c...   \n",
      "\n",
      "                           sig_dynamic_function_loading  \\\n",
      "0                                                   NaN   \n",
      "1                                                   NaN   \n",
      "2                                                   NaN   \n",
      "3                                                   NaN   \n",
      "4                                                   NaN   \n",
      "...                                                 ...   \n",
      "2018                                                NaN   \n",
      "2019                                                NaN   \n",
      "2020                                                NaN   \n",
      "2021  941636b6 092b93e5 a143e7b7 b3010d20 b1811d49 d...   \n",
      "2022  a5868d35 9c316239 795e3518 bf7f10ce 010dcc1a 9...   \n",
      "\n",
      "     sig_malicious_dynamic_function_loading sig_manalyzefindcrypt  \\\n",
      "0                                       NaN                   NaN   \n",
      "1                                       NaN                   NaN   \n",
      "2                                       NaN                   NaN   \n",
      "3                                       NaN                   NaN   \n",
      "4                                       NaN                   NaN   \n",
      "...                                     ...                   ...   \n",
      "2018                                    NaN                   NaN   \n",
      "2019                                    NaN                   NaN   \n",
      "2020                                    NaN                   NaN   \n",
      "2021                      f42acb1e 5977efc1              11a36264   \n",
      "2022                                    NaN                   NaN   \n",
      "\n",
      "                       sig_manalyzepacker sig_packer_entropy sig_packer_upx  \\\n",
      "0                                     NaN                NaN            NaN   \n",
      "1                                     NaN                NaN            NaN   \n",
      "2                                     NaN                NaN            NaN   \n",
      "3                                     NaN                NaN            NaN   \n",
      "4                                     NaN                NaN            NaN   \n",
      "...                                   ...                ...            ...   \n",
      "2018                                  NaN                NaN            NaN   \n",
      "2019                                  NaN                NaN            NaN   \n",
      "2020                                  NaN                NaN            NaN   \n",
      "2021  09e13e29 1909fd32 2e03f1ea 67bdc64f           b4ac4b82       095934a1   \n",
      "2022                             33c36d4c                NaN            NaN   \n",
      "\n",
      "     sig_static_pe_anomaly sig_yara_detection  \n",
      "0                      NaN                NaN  \n",
      "1                      NaN                NaN  \n",
      "2                      NaN                NaN  \n",
      "3                      NaN                NaN  \n",
      "4                      NaN                NaN  \n",
      "...                    ...                ...  \n",
      "2018                   NaN                NaN  \n",
      "2019                   NaN                NaN  \n",
      "2020                   NaN                NaN  \n",
      "2021              a28f50fa                NaN  \n",
      "2022                   NaN           389a79b3  \n",
      "\n",
      "[2023 rows x 22 columns]\n"
     ]
    }
   ],
   "source": [
    "\n",
    "import pandas as pd\n",
    "import numpy as np\n",
    "import os\n",
    "import json\n",
    "from sklearn.metrics import confusion_matrix\n",
    "from sklearn.model_selection import train_test_split\n",
    "from sklearn.tree import DecisionTreeClassifier\n",
    "from sklearn.metrics import accuracy_score\n",
    "from sklearn.metrics import classification_report\n",
    "inl=[]\n",
    "out=[]\n",
    "for i in os.listdir('./data/inl'):\n",
    "    inl.append(json.loads(open('./data/inl/'+i,'r').read()))\n",
    "#Since there is no normal set we are considering other groups as outlier data\n",
    "for i in os.listdir('./data/out'):\n",
    "    out.append(json.loads(open('./data/out/'+i,'r').read()))\n",
    "df1=pd.DataFrame(inl)\n",
    "df2=pd.DataFrame(out)\n",
    "print(df1)"
   ]
  },
  {
   "cell_type": "code",
   "execution_count": 17,
   "id": "847d98e7",
   "metadata": {},
   "outputs": [],
   "source": [
    "df1=df1.fillna(0)\n",
    "df2=df2.fillna(0)\n",
    "df=pd.DataFrame()"
   ]
  },
  {
   "cell_type": "code",
   "execution_count": 18,
   "id": "4b87ac8d",
   "metadata": {},
   "outputs": [],
   "source": [
    "for i in df1.columns:\n",
    "    df[i]=df2[i]"
   ]
  },
  {
   "cell_type": "code",
   "execution_count": null,
   "id": "4a96a18b",
   "metadata": {},
   "outputs": [],
   "source": []
  },
  {
   "cell_type": "code",
   "execution_count": 4,
   "id": "ac466441",
   "metadata": {},
   "outputs": [],
   "source": [
    "from sklearn.feature_extraction.text import TfidfVectorizer\n",
    "vectorizer = TfidfVectorizer(max_features=190, stop_words='english', use_idf=True, ngram_range=(1, 3))"
   ]
  },
  {
   "cell_type": "code",
   "execution_count": 5,
   "id": "7ce7d8da",
   "metadata": {},
   "outputs": [],
   "source": [
    "df11=vectorizer.fit_transform(df1)\n",
    "df22=vectorizer.fit_transform(df)"
   ]
  },
  {
   "cell_type": "code",
   "execution_count": null,
   "id": "bf92dd69",
   "metadata": {},
   "outputs": [],
   "source": []
  },
  {
   "cell_type": "code",
   "execution_count": 6,
   "id": "09d026be",
   "metadata": {},
   "outputs": [],
   "source": [
    "def normal_accuracy(values):\n",
    "    tp=list(values).count(1)\n",
    "    total=values.shape[0]\n",
    "    accuracy=np.round(tp/total,4)\n",
    "    return accuracy\n",
    "\n",
    "def attack_accuracy(values):\n",
    "    tn=list(values).count(-1)\n",
    "    total=values.shape[0]\n",
    "    accuracy=np.round(tn/total,4)\n",
    "    return accuracy"
   ]
  },
  {
   "cell_type": "code",
   "execution_count": 7,
   "id": "b3a402d3",
   "metadata": {},
   "outputs": [
    {
     "name": "stderr",
     "output_type": "stream",
     "text": [
      "C:\\Users\\Vinnu\\anaconda3\\lib\\site-packages\\sklearn\\ensemble\\_iforest.py:263: UserWarning: max_samples (100) is greater than the total number of samples (22). max_samples will be set to n_samples for estimation.\n",
      "  warn(\"max_samples (%s) is greater than the \"\n"
     ]
    }
   ],
   "source": [
    "from sklearn.ensemble import IsolationForest as IF\n",
    "ifmodel = IF(max_samples=100)\n",
    "ifmodel.fit(df11)\n",
    "normal_isf = ifmodel.predict(df11)\n",
    "fraud_isf = ifmodel.predict(df22)\n",
    "ifin_accuracy_isf=normal_accuracy(normal_isf)\n",
    "ifout_accuracy_isf=attack_accuracy(fraud_isf)\n"
   ]
  },
  {
   "cell_type": "code",
   "execution_count": 8,
   "id": "difficult-tennis",
   "metadata": {},
   "outputs": [
    {
     "name": "stdout",
     "output_type": "stream",
     "text": [
      "Accuracy in Detecting Normal Cases: 1.0\n",
      "Accuracy in Detecting Fraud Cases: 0.0\n"
     ]
    }
   ],
   "source": [
    "\n",
    "\n",
    "print(\"Accuracy in Detecting Normal Cases:\", ifin_accuracy_isf)\n",
    "print(\"Accuracy in Detecting Fraud Cases:\", ifout_accuracy_isf)\n",
    "\n",
    "\n",
    "\n"
   ]
  },
  {
   "cell_type": "code",
   "execution_count": null,
   "id": "e9a057bf",
   "metadata": {},
   "outputs": [],
   "source": []
  },
  {
   "cell_type": "code",
   "execution_count": 9,
   "id": "afraid-indiana",
   "metadata": {},
   "outputs": [],
   "source": [
    "\n",
    "from sklearn.neighbors import LocalOutlierFactor as LOF\n",
    "import warnings\n",
    "warnings.filterwarnings('ignore')\n",
    "lofmodel = LOF(novelty=True)\n",
    "lofmodel.fit(df11)\n",
    "\n",
    "normal_lof = lofmodel.predict(df11)\n",
    "fraud_lof = lofmodel.predict(df22)\n",
    "\n",
    "in_accuracy_lof=normal_accuracy(normal_lof)\n",
    "out_accuracy_lof=attack_accuracy(fraud_lof)\n",
    "\n"
   ]
  },
  {
   "cell_type": "code",
   "execution_count": 10,
   "id": "phantom-capitol",
   "metadata": {},
   "outputs": [
    {
     "name": "stdout",
     "output_type": "stream",
     "text": [
      "Accuracy in Detecting Normal Cases: 1.0\n",
      "Accuracy in Detecting Fraud Cases: 0.0\n"
     ]
    }
   ],
   "source": [
    "\n",
    "\n",
    "print(\"Accuracy in Detecting Normal Cases:\", in_accuracy_lof)\n",
    "print(\"Accuracy in Detecting Fraud Cases:\", out_accuracy_lof)\n",
    "\n",
    "\n",
    "\n"
   ]
  },
  {
   "cell_type": "code",
   "execution_count": 11,
   "id": "wound-clothing",
   "metadata": {},
   "outputs": [
    {
     "data": {
      "image/png": "[encoded data removed]",
      "text/plain": [
       "<Figure size 432x288 with 1 Axes>"
      ]
     },
     "metadata": {
      "needs_background": "light"
     },
     "output_type": "display_data"
    },
    {
     "data": {
      "image/png": "[encoded data removed]",
      "text/plain": [
       "<Figure size 432x288 with 1 Axes>"
      ]
     },
     "metadata": {
      "needs_background": "light"
     },
     "output_type": "display_data"
    }
   ],
   "source": [
    "\n",
    "import matplotlib.pyplot as plt\n",
    "plt.bar([\"IsolationForest\",\"LocalOutlierFactor\"],[ifin_accuracy_isf,in_accuracy_lof],width=0.2)\n",
    "plt.title(\"AUC of inlier detection\")\n",
    "plt.show()\n",
    "plt.bar([\"IsolationForest\",\"LocalOutlierFactor\"],[ifout_accuracy_isf,out_accuracy_lof],width=0.2)\n",
    "plt.title(\"AUC of outlier detection\")\n",
    "plt.show()"
   ]
  },
  {
   "cell_type": "code",
   "execution_count": null,
   "id": "conceptual-nightmare",
   "metadata": {},
   "outputs": [],
   "source": []
  }
 ],
 "metadata": {
  "kernelspec": {
   "display_name": "Python 3 (ipykernel)",
   "language": "python",
   "name": "python3"
  },
  "language_info": {
   "codemirror_mode": {
    "name": "ipython",
    "version": 3
   },
   "file_extension": ".py",
   "mimetype": "text/x-python",
   "name": "python",
   "nbconvert_exporter": "python",
   "pygments_lexer": "ipython3",
   "version": "3.9.7"
  }
 },
 "nbformat": 4,
 "nbformat_minor": 5
}
